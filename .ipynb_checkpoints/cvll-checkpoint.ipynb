{
 "cells": [
  {
   "cell_type": "markdown",
   "id": "9cd8f281-ebae-47af-a840-a155d10af2ec",
   "metadata": {},
   "source": [
    "# Cross-validated logL from HMM object"
   ]
  },
  {
   "cell_type": "code",
   "execution_count": 3,
   "id": "fd5afdfe-e426-4113-a3b4-b896b9eb20f9",
   "metadata": {},
   "outputs": [],
   "source": [
    "import sys\n",
    "import re\n",
    "from contextlib import redirect_stderr\n",
    "from io import StringIO\n",
    "from tqdm import tqdm"
   ]
  },
  {
   "cell_type": "code",
   "execution_count": null,
   "id": "3f29f1e7-9035-4e10-92f8-56a4a42d7a8b",
   "metadata": {},
   "outputs": [
    {
     "name": "stdout",
     "output_type": "stream",
     "text": [
      "✔ Loaded 75 subjects\n",
      "\n",
      "=== Running CV for k=10 ===\n"
     ]
    },
    {
     "name": "stderr",
     "output_type": "stream",
     "text": [
      "  EM k=10:   0%|          | 0/500 [00:00<?, ?it/s]"
     ]
    }
   ],
   "source": [
    "# ─── Settings ────────────────────────────────────────────────────────────────────\n",
    "INPUT_DIR     = \"/home/jovyan/narratives-project/shirer_components\"\n",
    "DATASET       = \"timeseries\"\n",
    "STATE_COUNTS  = [10, 14]\n",
    "N_SPLITS      = 5\n",
    "MAX_ITER      = 500\n",
    "RANDOM_SEED   = 42\n",
    "# ─────────────────────────────────────────────────────────────────────────────────\n",
    "\n",
    "def load_data(input_dir):\n",
    "    data = []\n",
    "    for path in sorted(glob.glob(os.path.join(input_dir, \"*.h5\"))):\n",
    "        with h5py.File(path, \"r\") as f:\n",
    "            ts = f[DATASET][()].T\n",
    "        ts = StandardScaler().fit_transform(ts)\n",
    "        data.append(ts)\n",
    "    return data\n",
    "    \n",
    "def fit_hmm_with_progress(X, lengths, k, max_iter=500):\n",
    "    \"\"\"\n",
    "    Fit GaussianHMM with a tqdm progress bar on EM iterations.\n",
    "    \"\"\"\n",
    "    bar = tqdm(total=max_iter, desc=f\"  EM k={k}\", position=0)\n",
    "\n",
    "    class EMLogger:\n",
    "        def __init__(self):\n",
    "            self.iter_regex = re.compile(r\"^\\s*Iter (\\d+):.*\")\n",
    "\n",
    "        def write(self, msg):\n",
    "            match = self.iter_regex.search(msg)\n",
    "            if match:\n",
    "                current_iter = int(match.group(1))\n",
    "                bar.n = current_iter\n",
    "                bar.refresh()\n",
    "\n",
    "        def flush(self):  # required for redirect_stderr\n",
    "            pass\n",
    "\n",
    "    stderr_logger = EMLogger()\n",
    "    model = hmm.GaussianHMM(n_components=k, covariance_type='full', n_iter=max_iter, verbose=True)\n",
    "    with redirect_stderr(stderr_logger):\n",
    "        model.fit(X, lengths)\n",
    "    bar.n = max_iter\n",
    "    bar.refresh()\n",
    "    bar.close()\n",
    "    return model\n",
    "    \n",
    "def compute_cv_loglik(data, k, n_splits=N_SPLITS):\n",
    "    kf = KFold(n_splits=n_splits, shuffle=True, random_state=RANDOM_SEED)\n",
    "    scores = []\n",
    "\n",
    "    for fold, (train_idx, test_idx) in enumerate(kf.split(data), 1):\n",
    "        train = [data[i] for i in train_idx]\n",
    "        test  = [data[i] for i in test_idx]\n",
    "\n",
    "        X_train = np.vstack(train)\n",
    "        lengths_train = [d.shape[0] for d in train]\n",
    "\n",
    "        model = fit_hmm_with_progress(X_train, lengths_train, k, MAX_ITER)\n",
    "\n",
    "        X_test = np.vstack(test)\n",
    "        lengths_test = [d.shape[0] for d in test]\n",
    "        try:\n",
    "            logL = model.score(X_test, lengths_test)\n",
    "            scores.append(logL)\n",
    "            print(f\"  Fold {fold}: logL = {logL:.1f}\")\n",
    "        except Exception as e:\n",
    "            print(f\"  [ERROR] Fold {fold} for k={k}: {e}\")\n",
    "\n",
    "    return np.mean(scores), np.std(scores)\n",
    "\n",
    "def main():\n",
    "    data = load_data(INPUT_DIR)\n",
    "    print(f\"✔ Loaded {len(data)} subjects\")\n",
    "\n",
    "    cv_results = []\n",
    "\n",
    "    for k in STATE_COUNTS:\n",
    "        print(f\"\\n=== Running CV for k={k} ===\")\n",
    "        mean_cvll, std_cvll = compute_cv_loglik(data, k)\n",
    "        print(f\"→ k={k}: Mean CVLL = {mean_cvll:.2f}, SD = {std_cvll:.2f}\")\n",
    "        cv_results.append({\n",
    "            \"k\": k,\n",
    "            \"mean_cvll\": mean_cvll,\n",
    "            \"std_cvll\": std_cvll\n",
    "        })\n",
    "\n",
    "    # Sort and report best\n",
    "    cv_results.sort(key=lambda x: x[\"mean_cvll\"], reverse=True)\n",
    "    print(\"\\n=== Summary ===\")\n",
    "    for res in cv_results:\n",
    "        print(f\"k={res['k']:>2} | CVLL = {res['mean_cvll']:.2f} ± {res['std_cvll']:.2f}\")\n",
    "\n",
    "    best = cv_results[0]\n",
    "    print(f\"\\n✅ Best model: k={best['k']} (CVLL = {best['mean_cvll']:.2f})\")\n",
    "\n",
    "if __name__ == \"__main__\":\n",
    "    main()"
   ]
  }
 ],
 "metadata": {
  "kernelspec": {
   "display_name": "Python 3 (ipykernel)",
   "language": "python",
   "name": "python3"
  },
  "language_info": {
   "codemirror_mode": {
    "name": "ipython",
    "version": 3
   },
   "file_extension": ".py",
   "mimetype": "text/x-python",
   "name": "python",
   "nbconvert_exporter": "python",
   "pygments_lexer": "ipython3",
   "version": "3.11.11"
  }
 },
 "nbformat": 4,
 "nbformat_minor": 5
}
