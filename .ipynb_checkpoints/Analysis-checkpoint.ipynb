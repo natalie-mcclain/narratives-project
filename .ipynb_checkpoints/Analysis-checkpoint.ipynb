{
 "cells": [
  {
   "cell_type": "code",
   "execution_count": null,
   "id": "bb5927b3-365a-411b-8cc2-98f8b843b907",
   "metadata": {},
   "outputs": [],
   "source": [
    "# Load HMM results\n",
    "\n",
    "# Load pieman_segments\n"
   ]
  },
  {
   "cell_type": "code",
   "execution_count": null,
   "id": "53801f08-8cb8-4af0-91f4-e9ec4d13ce43",
   "metadata": {},
   "outputs": [],
   "source": []
  }
 ],
 "metadata": {
  "kernelspec": {
   "display_name": "Python 3 (ipykernel)",
   "language": "python",
   "name": "python3"
  },
  "language_info": {
   "codemirror_mode": {
    "name": "ipython",
    "version": 3
   },
   "file_extension": ".py",
   "mimetype": "text/x-python",
   "name": "python",
   "nbconvert_exporter": "python",
   "pygments_lexer": "ipython3",
   "version": "3.11.11"
  }
 },
 "nbformat": 4,
 "nbformat_minor": 5
}
