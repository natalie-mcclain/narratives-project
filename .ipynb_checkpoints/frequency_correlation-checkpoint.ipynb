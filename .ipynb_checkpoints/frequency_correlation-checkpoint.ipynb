{
 "cells": [
  {
   "cell_type": "code",
   "execution_count": null,
   "id": "3960cb79-ee51-48c8-93ee-b20ccff87b54",
   "metadata": {},
   "outputs": [],
   "source": []
  },
  {
   "cell_type": "code",
   "execution_count": null,
   "id": "0b2df683-bf4e-466f-84f1-23a8f75cf1ba",
   "metadata": {},
   "outputs": [],
   "source": [
    "import matplotlib.pyplot as plt\n",
    "\n",
    "# Convert to NumPy array for easy indexing\n",
    "state_array = np.array(state_vectors)  # shape: (n_subjects, n_timepoints)\n",
    "n_subjects, n_timepoints = state_array.shape\n",
    "\n",
    "# Set up figure\n",
    "plt.figure(figsize=(15, 8))\n",
    "\n",
    "# Show image: each row is a subject, each column is a timepoint\n",
    "# Use 'nearest' to avoid interpolation, and aspect='auto' to fit height\n",
    "plt.imshow(state_array, aspect='auto', cmap='tab10', interpolation='nearest')\n",
    "\n",
    "boundary_locs = [i for i, val in enumerate(event_boundaries) if val == 1]\n",
    "# Overlay vertical dashed lines for event boundaries\n",
    "for boundary in boundary_locs:\n",
    "    boundary = int(boundary)\n",
    "    plt.axvline(x=boundary, color='black', linestyle='-', linewidth=0.8)\n",
    "\n",
    "# Labels and formatting\n",
    "plt.xlabel(\"Timepoint (TR)\")\n",
    "plt.ylabel(\"Subject\")\n",
    "plt.title(\"Viterbi State Paths Across Subjects with Event Boundaries\")\n",
    "plt.colorbar(label=\"State\")  # Optional: shows state colors\n",
    "plt.tight_layout()\n",
    "plt.grid(False)\n",
    "plt.show()"
   ]
  }
 ],
 "metadata": {
  "kernelspec": {
   "display_name": "Python 3 (ipykernel)",
   "language": "python",
   "name": "python3"
  },
  "language_info": {
   "codemirror_mode": {
    "name": "ipython",
    "version": 3
   },
   "file_extension": ".py",
   "mimetype": "text/x-python",
   "name": "python",
   "nbconvert_exporter": "python",
   "pygments_lexer": "ipython3",
   "version": "3.11.11"
  }
 },
 "nbformat": 4,
 "nbformat_minor": 5
}
