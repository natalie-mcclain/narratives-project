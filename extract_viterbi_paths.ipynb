{
 "cells": [
  {
   "cell_type": "markdown",
   "id": "e4d36b25-e4db-49a2-bcf1-fdcb3c6483ec",
   "metadata": {},
   "source": [
    "# Extract Viterbi paths from HMM objects"
   ]
  },
  {
   "cell_type": "markdown",
   "id": "5d39a8dd-f06d-40c5-8b7f-0a7374f3b976",
   "metadata": {},
   "source": [
    "---------------------------------\n",
    "Exports subject-level Viterbi paths to CSV, preserving the original\n",
    "subject IDs embedded in the pickle (entry[\"subject_ids\"]).\n",
    "\n",
    "Run:  python extract_statepaths_k14_withIDs.py"
   ]
  },
  {
   "cell_type": "code",
   "execution_count": 1,
   "id": "83922210-ef02-4960-aedf-d911de32117f",
   "metadata": {},
   "outputs": [],
   "source": [
    "import argparse\n",
    "import os\n",
    "import pickle\n",
    "import numpy as np\n",
    "import pandas as pd"
   ]
  },
  {
   "cell_type": "code",
   "execution_count": 3,
   "id": "5d06d464-d1f3-4f85-8623-dcd5dec398b3",
   "metadata": {},
   "outputs": [],
   "source": [
    "PKL_PATH = \"/home/jovyan/narratives-project/hmm-objects/hmmlearn_consensus_results_k14_withIDs.pkl\"\n",
    "OUT_CSV  = \"/home/jovyan/narratives-project/viterbi-paths/statepaths_k14.csv\"\n",
    "K        = 14       # number of states in the model\n",
    "PAD_VALUE = np.nan  # pad shorter runs with NaN"
   ]
  },
  {
   "cell_type": "code",
   "execution_count": 4,
   "id": "3bd28dc1-ad67-4469-afc6-3c422a87f00a",
   "metadata": {},
   "outputs": [
    {
     "name": "stdout",
     "output_type": "stream",
     "text": [
      "✔ Using 75 subject IDs from pickle.\n",
      "✅  Wrote 75 subjects × 279 TRs → /home/jovyan/narratives-project/viterbi-paths/statepaths_k14.csv\n"
     ]
    }
   ],
   "source": [
    "def load_entry(results, k):\n",
    "    \"\"\"Return the dict matching the requested k.\"\"\"\n",
    "    matches = [d for d in results if d.get(\"k\") == k]\n",
    "    if not matches:\n",
    "        raise ValueError(f\"No entry with k={k} in pickle.\")\n",
    "    if len(matches) > 1:\n",
    "        raise ValueError(f\"Duplicate entries with k={k}.\")\n",
    "    return matches[0]\n",
    "\n",
    "\n",
    "def build_matrix(paths, pad_value=PAD_VALUE):\n",
    "    \"\"\"Pad variable-length paths into a rectangular array.\"\"\"\n",
    "    max_len = max(len(p) for p in paths)\n",
    "    mat = np.full((len(paths), max_len), pad_value, dtype=float)\n",
    "    for i, seq in enumerate(paths):\n",
    "        mat[i, :len(seq)] = seq        # up-casts ints to float automatically\n",
    "    return mat\n",
    "\n",
    "\n",
    "def main():\n",
    "    if not os.path.exists(PKL_PATH):\n",
    "        raise FileNotFoundError(f\"Pickle not found: {PKL_PATH}\")\n",
    "\n",
    "    with open(PKL_PATH, \"rb\") as f:\n",
    "        results = pickle.load(f)\n",
    "\n",
    "    entry = load_entry(results, k=K)\n",
    "    mat   = build_matrix(entry[\"subject_paths\"])\n",
    "\n",
    "    # ─── Pick real subject IDs if available ───────────────────────────────────\n",
    "    ids = entry.get(\"subject_ids\")\n",
    "    if ids is None:\n",
    "        # Fallback: artificial labels\n",
    "        ids = [f\"sub-{i+1:03d}\" for i in range(mat.shape[0])]\n",
    "        print(\"⚠️  subject_ids not found in pickle – using synthetic labels.\")\n",
    "    else:\n",
    "        print(f\"✔ Using {len(ids)} subject IDs from pickle.\")\n",
    "\n",
    "    # ─── Write CSV ────────────────────────────────────────────────────────────\n",
    "    df = pd.DataFrame(mat, index=ids, dtype=float)\n",
    "    df.to_csv(OUT_CSV, index=True)\n",
    "    print(f\"✅  Wrote {df.shape[0]} subjects × {df.shape[1]} TRs → {OUT_CSV}\")\n",
    "\n",
    "\n",
    "if __name__ == \"__main__\":\n",
    "    main()\n"
   ]
  }
 ],
 "metadata": {
  "kernelspec": {
   "display_name": "Python 3 (ipykernel)",
   "language": "python",
   "name": "python3"
  },
  "language_info": {
   "codemirror_mode": {
    "name": "ipython",
    "version": 3
   },
   "file_extension": ".py",
   "mimetype": "text/x-python",
   "name": "python",
   "nbconvert_exporter": "python",
   "pygments_lexer": "ipython3",
   "version": "3.11.11"
  }
 },
 "nbformat": 4,
 "nbformat_minor": 5
}
