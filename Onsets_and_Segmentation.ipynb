{
 "cells": [
  {
   "cell_type": "markdown",
   "id": "484530d7-a472-4444-9658-72caa6b9165f",
   "metadata": {},
   "source": [
    "# Combining onset information and LLM segmentation\n",
    "#### Steps\n",
    "\n",
    "#### Works Cited\n",
    "Michelmann, S., Kumar, M., Norman, K.A. et al. Large language models can segment narrative events similarly to humans. *Behav Res* 57, 39 (2025). https://doi.org/10.3758/s13428-024-02569-z"
   ]
  },
  {
   "cell_type": "code",
   "execution_count": 1,
   "id": "081921dc-88bf-4815-8688-d9bc263cd200",
   "metadata": {},
   "outputs": [],
   "source": [
    "#!pip install openai"
   ]
  },
  {
   "cell_type": "code",
   "execution_count": 2,
   "id": "10ce7094-50b8-4c0e-81c1-7dd4e5903c94",
   "metadata": {},
   "outputs": [],
   "source": [
    "import pickle\n",
    "all_iter = []\n",
    "for i in range(6):\n",
    "    file_path = f'../GPT_event_share/Pieman/outputs/Pieman_iter_{i}_version__Events.pkl'\n",
    "    with open(file_path, 'rb') as f:\n",
    "        data = pickle.load(f)\n",
    "        all_iter.append(data)"
   ]
  },
  {
   "cell_type": "code",
   "execution_count": 3,
   "id": "b89abdfe-c2e2-4265-9360-b066d27f1d74",
   "metadata": {},
   "outputs": [],
   "source": [
    "import pandas as pd\n",
    "\n",
    "align_df = pd.read_csv('../gentle/pieman/align.csv', header=None)"
   ]
  },
  {
   "cell_type": "code",
   "execution_count": 4,
   "id": "95576e83-9b7a-4c77-a307-2c8f9badbdb5",
   "metadata": {},
   "outputs": [],
   "source": [
    "# Parameters\n",
    "n_trs = 300\n",
    "tr_length = 1.5\n",
    "\n",
    "# Create DataFrame\n",
    "trs_df = pd.DataFrame({\n",
    "    'TR': range(1, 1+n_trs),\n",
    "    'Time_seconds': [tr * tr_length for tr in range(n_trs)]\n",
    "})"
   ]
  },
  {
   "cell_type": "code",
   "execution_count": 5,
   "id": "fccfb509-50bd-4c45-9e39-dba2ac389581",
   "metadata": {},
   "outputs": [],
   "source": [
    "# Rename columns for clarity\n",
    "align_df.columns = ['word_raw', 'word_clean', 'start', 'end']\n",
    "\n",
    "align_df = align_df.dropna()"
   ]
  },
  {
   "cell_type": "code",
   "execution_count": 6,
   "id": "11d2d231-9eb2-4cc3-a57a-3a4172071644",
   "metadata": {},
   "outputs": [],
   "source": [
    "# Assign TRs using the lag-adjusted start time\n",
    "word_with_tr = pd.merge_asof(\n",
    "    align_df,\n",
    "    trs_df,\n",
    "    left_on='start',\n",
    "    right_on='Time_seconds',\n",
    "    direction='backward'\n",
    ")\n",
    "\n",
    "# Clean up columns: drop raw TR time if not needed\n",
    "word_with_tr = word_with_tr.drop(columns='Time_seconds')"
   ]
  },
  {
   "cell_type": "code",
   "execution_count": 7,
   "id": "2c1411b2-731b-4b86-b7d4-41f4cfceed7e",
   "metadata": {},
   "outputs": [],
   "source": [
    "# Indices that start and end times are not defined for (got dropped from align_df so must be dropped here as well)\n",
    "dropped_indices = [420, 498, 880]\n",
    "\n",
    "# Loop through all 6 segmentation variants\n",
    "for seg_version in range(6):\n",
    "    segment_ids = []\n",
    "    flat_tokens = []\n",
    "\n",
    "    for idx, segment in enumerate(all_iter[seg_version]):\n",
    "        words = segment.split()\n",
    "        flat_tokens.extend(words)\n",
    "        segment_ids.extend([idx] * len(words))\n",
    "\n",
    "    # Drop the same bad tokens\n",
    "    flat_tokens_cleaned = [tok for i, tok in enumerate(flat_tokens) if i not in dropped_indices]\n",
    "    segment_ids_cleaned = [sid for i, sid in enumerate(segment_ids) if i not in dropped_indices]\n",
    "\n",
    "    # Add to main dataframe\n",
    "    colname = f'segment_idx_{seg_version}'\n",
    "    word_with_tr[colname] = segment_ids_cleaned[:len(word_with_tr)]\n"
   ]
  },
  {
   "cell_type": "code",
   "execution_count": 8,
   "id": "8102e210-d2cf-4143-b7a4-2b5a448743fb",
   "metadata": {},
   "outputs": [],
   "source": [
    "# Note: TR is aligned to real time, no lag\n",
    "word_with_tr.to_csv(\"pieman_segments.csv\", index=False)"
   ]
  }
 ],
 "metadata": {
  "kernelspec": {
   "display_name": "Python 3 (ipykernel)",
   "language": "python",
   "name": "python3"
  },
  "language_info": {
   "codemirror_mode": {
    "name": "ipython",
    "version": 3
   },
   "file_extension": ".py",
   "mimetype": "text/x-python",
   "name": "python",
   "nbconvert_exporter": "python",
   "pygments_lexer": "ipython3",
   "version": "3.11.11"
  }
 },
 "nbformat": 4,
 "nbformat_minor": 5
}
