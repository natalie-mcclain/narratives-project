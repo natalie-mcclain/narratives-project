{
 "cells": [
  {
   "cell_type": "markdown",
   "id": "484530d7-a472-4444-9658-72caa6b9165f",
   "metadata": {},
   "source": [
    "# Combining onset information and LLM segmentation\n",
    "#### Steps\n",
    "\n",
    "#### Works Cited\n",
    "Michelmann, S., Kumar, M., Norman, K.A. et al. Large language models can segment narrative events similarly to humans. *Behav Res* 57, 39 (2025). https://doi.org/10.3758/s13428-024-02569-z"
   ]
  },
  {
   "cell_type": "code",
   "execution_count": 1,
   "id": "081921dc-88bf-4815-8688-d9bc263cd200",
   "metadata": {},
   "outputs": [],
   "source": [
    "#!pip install openai"
   ]
  },
  {
   "cell_type": "code",
   "execution_count": 2,
   "id": "10ce7094-50b8-4c0e-81c1-7dd4e5903c94",
   "metadata": {},
   "outputs": [],
   "source": [
    "import pickle\n",
    "all_iter = []\n",
    "for i in range(6):\n",
    "    file_path = f'../GPT_event_share/Pieman/outputs/Pieman_iter_{i}_version__Events.pkl'\n",
    "    with open(file_path, 'rb') as f:\n",
    "        data = pickle.load(f)\n",
    "        all_iter.append(data)"
   ]
  },
  {
   "cell_type": "code",
   "execution_count": 3,
   "id": "36550a8e-b672-48d1-b7e9-d2641c1e1a09",
   "metadata": {},
   "outputs": [
    {
     "data": {
      "text/plain": [
       "['I began my illustrious career in journalism in the Bronx where I toiled as a hard boiled reporter for The Ram, the student newspaper at Fordham University.',\n",
       " \"And one day I'm walking toward the campus center. And out comes the elusive Dean McGowan, architect of a policy to replace Fordham's traditionally working to middle class students with wealthier, more prestigious ones. So I whip out my notebook. And I go up to him and I say: Dean McGowan, is it true that Fordham University plans to raise tuition substantially above the inflation rate? And if so, wouldn't that be a betrayal of its mission?\",\n",
       " \"And he stops. And looks at me. And he says: Listen up punk. And right then there's a blur in the corner of my eye which becomes this figure holding a cream pie which becomes the guy standing next to me mashing a cream pie into Dean McGowan's face. And and then runs away. And the Dean is covered with cream.\",\n",
       " 'So I give him a moment. And then I say: Dean McGowan, would you care to comment on this latest attack? And the Dean says: Yes, I would care to comment. Fuck you.',\n",
       " \"So I race back to the newsroom with my scoop. And I, and I find the editor, Jim Dwyer, who's a senior. And he will go on to win a Pulitzer Prize. That is true. And he's a big guy. I pitch him my story. I tell him what I've seen. And he says: Dean McGowan? That guy's a dick! Write it up!\",\n",
       " \"So I'm banging out my story. And I know it's good. And then I start to make it better by adding an element of embellishment. Reporters call this making shit up. And they recommend against crossing that line. But I had just seen the line crossed between a high powered dean and assault with a pastry. And I kind of liked it. So the first thing I did was, I gave the figure a name. I called him Pie Man, capital P, capital M. And I described him as a cape wearing, masked avenger, though in fact, he'd been capeless. And I said that as he fled the scene he clicked his heels in rakish glee. And I gave him a catchphrase in Latin. I said that he cried out: Ego sum non un bestia! Which means: I am not an animal. Which makes no sense. I needed something. I'm Catholic. Latin just comes to me.\",\n",
       " \"So I finish my story and I hand it to Dwyer. And he reads. And he says: Pie Man, I love it! Page one. And that's how the first line got crossed.\",\n",
       " \"A few days later I get a letter. It says: Dear Jim, good story. Nice details. If you want to see me again in action, be on the steps of Duane Library, Tuesday at three o'clock. Signed, Pie Man.\",\n",
       " \"So I was there with a photographer from The Ram. And sure enough, out comes Sheila Beale, student body president. And now Sheila was different from me and all the other Fordham students who wore flannel shirts and worked part time jobs. Sheila was well bred. Sheila had school spirit. Sheila was the kind of student that Dean McGowan wanted more of. Although rumor had it that he got plenty of her in his office on his desk. Oh, but that's just a rumor. Please do not spread it outside this room. I myself would never say that. But the fact was Sheila had collaborated with the Dean to ban outdoor drinking on campus. The infamous no more beer at barbecues rule. That's right, boo that rule! Sheila thought drinking in public was in poor taste.\",\n",
       " \"I think you know what happened next. Pie Man emerged from behind the late night library drop box, made his delivery, and fled away crying: Ego sum non un bestia. Or at least, that's what it said in my story in the newspaper the next day, which ran with a photo of him leaving the scene cape flowing behind him doing this. And that's what made him a sensation on campus. People started dressing like him and and quoting him in class. The Ram ran five major stories about Pie Man, all of them by me.\",\n",
       " 'And toward the end of this run I was out at a bar one night. ',\n",
       " 'And I saw, I came in I saw, in the corner, Angela from my Brit Lit class drinking with some friends. ',\n",
       " 'And now, Angela and I had been flirting for two months. Or, I had been flirting with her. And with such nuance that there was a question about whether she knew I existed. ',\n",
       " 'So I I saw her there and made a mental note to do nothing about it. ',\n",
       " 'And then I went to the bar to buy a round. ',\n",
       " 'And I felt a tap on my shoulder. ',\n",
       " 'And it was her. ',\n",
       " 'And she said: Jim, we were just talking about how you always seem to know when and where Pie Man will strike. And we were wondering. Are you Pie Man? ',\n",
       " \"And I knew, by the way she said it, I knew that if I said yes, she would have sex with me. And wasn't I really Pie Man for having brought him into being? Didn't she only know about him through me? \",\n",
       " \"But she had asked me a straightforward question that came with a straightforward answer. In fact, I wasn't Pie Man. As far as I knew, I had never seen the guy out of costume. \",\n",
       " 'So I looked at her. ',\n",
       " 'And I said: Yes, Angela, I am Pie Man. ',\n",
       " 'And she said: Oh, good. Now buy me a beer and tell me all about it.']"
      ]
     },
     "execution_count": 3,
     "metadata": {},
     "output_type": "execute_result"
    }
   ],
   "source": [
    "all_iter[0]"
   ]
  },
  {
   "cell_type": "code",
   "execution_count": 3,
   "id": "b89abdfe-c2e2-4265-9360-b066d27f1d74",
   "metadata": {},
   "outputs": [],
   "source": [
    "import pandas as pd\n",
    "\n",
    "align_df = pd.read_csv('../gentle/pieman/align.csv', header=None)"
   ]
  },
  {
   "cell_type": "code",
   "execution_count": 4,
   "id": "95576e83-9b7a-4c77-a307-2c8f9badbdb5",
   "metadata": {},
   "outputs": [],
   "source": [
    "# Parameters\n",
    "n_trs = 300\n",
    "tr_length = 1.5\n",
    "\n",
    "# Create DataFrame\n",
    "trs_df = pd.DataFrame({\n",
    "    'TR': range(1, 1+n_trs),\n",
    "    'Time_seconds': [tr * tr_length for tr in range(n_trs)]\n",
    "})"
   ]
  },
  {
   "cell_type": "code",
   "execution_count": 5,
   "id": "fccfb509-50bd-4c45-9e39-dba2ac389581",
   "metadata": {},
   "outputs": [],
   "source": [
    "# Rename columns for clarity\n",
    "align_df.columns = ['word_raw', 'word_clean', 'start', 'end']\n",
    "\n",
    "align_df = align_df.dropna()"
   ]
  },
  {
   "cell_type": "code",
   "execution_count": 6,
   "id": "11d2d231-9eb2-4cc3-a57a-3a4172071644",
   "metadata": {},
   "outputs": [],
   "source": [
    "# Assign TRs using the lag-adjusted start time\n",
    "word_with_tr = pd.merge_asof(\n",
    "    align_df,\n",
    "    trs_df,\n",
    "    left_on='start',\n",
    "    right_on='Time_seconds',\n",
    "    direction='backward'\n",
    ")\n",
    "\n",
    "# Clean up columns: drop raw TR time if not needed\n",
    "word_with_tr = word_with_tr.drop(columns='Time_seconds')"
   ]
  },
  {
   "cell_type": "code",
   "execution_count": 7,
   "id": "2c1411b2-731b-4b86-b7d4-41f4cfceed7e",
   "metadata": {},
   "outputs": [],
   "source": [
    "# Indices that start and end times are not defined for (got dropped from align_df so must be dropped here as well)\n",
    "dropped_indices = [420, 498, 880]\n",
    "\n",
    "# Loop through all 6 segmentation variants\n",
    "for seg_version in range(6):\n",
    "    segment_ids = []\n",
    "    flat_tokens = []\n",
    "\n",
    "    for idx, segment in enumerate(all_iter[seg_version]):\n",
    "        words = segment.split()\n",
    "        flat_tokens.extend(words)\n",
    "        segment_ids.extend([idx] * len(words))\n",
    "\n",
    "    # Drop the same bad tokens\n",
    "    flat_tokens_cleaned = [tok for i, tok in enumerate(flat_tokens) if i not in dropped_indices]\n",
    "    segment_ids_cleaned = [sid for i, sid in enumerate(segment_ids) if i not in dropped_indices]\n",
    "\n",
    "    # Add to main dataframe\n",
    "    colname = f'segment_idx_{seg_version}'\n",
    "    word_with_tr[colname] = segment_ids_cleaned[:len(word_with_tr)]\n"
   ]
  },
  {
   "cell_type": "code",
   "execution_count": 8,
   "id": "8102e210-d2cf-4143-b7a4-2b5a448743fb",
   "metadata": {},
   "outputs": [],
   "source": [
    "# Note: TR is aligned to real time, no lag\n",
    "word_with_tr.to_csv(\"pieman_segments.csv\", index=False)"
   ]
  }
 ],
 "metadata": {
  "kernelspec": {
   "display_name": "Python 3 (ipykernel)",
   "language": "python",
   "name": "python3"
  },
  "language_info": {
   "codemirror_mode": {
    "name": "ipython",
    "version": 3
   },
   "file_extension": ".py",
   "mimetype": "text/x-python",
   "name": "python",
   "nbconvert_exporter": "python",
   "pygments_lexer": "ipython3",
   "version": "3.11.11"
  }
 },
 "nbformat": 4,
 "nbformat_minor": 5
}
