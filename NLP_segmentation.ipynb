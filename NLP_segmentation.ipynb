{
 "cells": [
  {
   "cell_type": "code",
   "execution_count": 1,
   "id": "cb352f14-9cb0-46ef-b831-24be6b4a9064",
   "metadata": {},
   "outputs": [
    {
     "ename": "NameError",
     "evalue": "name 'df' is not defined",
     "output_type": "error",
     "traceback": [
      "\u001b[0;31m---------------------------------------------------------------------------\u001b[0m",
      "\u001b[0;31mNameError\u001b[0m                                 Traceback (most recent call last)",
      "Cell \u001b[0;32mIn[1], line 57\u001b[0m\n\u001b[1;32m     52\u001b[0m     tr_embed_df[emo] \u001b[38;5;241m=\u001b[39m tr_embed_df[[\u001b[38;5;124mf\u001b[39m\u001b[38;5;124m\"\u001b[39m\u001b[38;5;124mdim_\u001b[39m\u001b[38;5;132;01m{\u001b[39;00mi\u001b[38;5;132;01m}\u001b[39;00m\u001b[38;5;124m\"\u001b[39m \u001b[38;5;28;01mfor\u001b[39;00m i \u001b[38;5;129;01min\u001b[39;00m \u001b[38;5;28mrange\u001b[39m(model\u001b[38;5;241m.\u001b[39mvector_size)]]\u001b[38;5;241m.\u001b[39mapply(\n\u001b[1;32m     53\u001b[0m         \u001b[38;5;28;01mlambda\u001b[39;00m row: cosine_sim(row\u001b[38;5;241m.\u001b[39mto_numpy(), proto_vec), axis\u001b[38;5;241m=\u001b[39m\u001b[38;5;241m1\u001b[39m\n\u001b[1;32m     54\u001b[0m     )\n\u001b[1;32m     56\u001b[0m \u001b[38;5;66;03m# 7. Rolling 2-TR trailing mean\u001b[39;00m\n\u001b[0;32m---> 57\u001b[0m all_tr \u001b[38;5;241m=\u001b[39m pd\u001b[38;5;241m.\u001b[39mDataFrame({\u001b[38;5;124m\"\u001b[39m\u001b[38;5;124mTR\u001b[39m\u001b[38;5;124m\"\u001b[39m: np\u001b[38;5;241m.\u001b[39marange(\u001b[43mdf\u001b[49m[\u001b[38;5;124m\"\u001b[39m\u001b[38;5;124mTR\u001b[39m\u001b[38;5;124m\"\u001b[39m]\u001b[38;5;241m.\u001b[39mmin(), df[\u001b[38;5;124m\"\u001b[39m\u001b[38;5;124mTR\u001b[39m\u001b[38;5;124m\"\u001b[39m]\u001b[38;5;241m.\u001b[39mmax() \u001b[38;5;241m+\u001b[39m \u001b[38;5;241m1\u001b[39m)})\n\u001b[1;32m     58\u001b[0m tr_scores \u001b[38;5;241m=\u001b[39m all_tr\u001b[38;5;241m.\u001b[39mmerge(tr_embed_df[[\u001b[38;5;124m\"\u001b[39m\u001b[38;5;124mTR\u001b[39m\u001b[38;5;124m\"\u001b[39m] \u001b[38;5;241m+\u001b[39m \u001b[38;5;28mlist\u001b[39m(emotion_prototypes\u001b[38;5;241m.\u001b[39mkeys())], on\u001b[38;5;241m=\u001b[39m\u001b[38;5;124m\"\u001b[39m\u001b[38;5;124mTR\u001b[39m\u001b[38;5;124m\"\u001b[39m, how\u001b[38;5;241m=\u001b[39m\u001b[38;5;124m\"\u001b[39m\u001b[38;5;124mleft\u001b[39m\u001b[38;5;124m\"\u001b[39m)\u001b[38;5;241m.\u001b[39mfillna(\u001b[38;5;241m0.0\u001b[39m)\n\u001b[1;32m     60\u001b[0m \u001b[38;5;28;01mfor\u001b[39;00m emo \u001b[38;5;129;01min\u001b[39;00m emotion_prototypes:\n",
      "\u001b[0;31mNameError\u001b[0m: name 'df' is not defined"
     ]
    }
   ],
   "source": [
    "import pandas as pd\n",
    "import numpy as np\n",
    "from gensim.downloader import load as gensim_load\n",
    "from sklearn.metrics.pairwise import cosine_similarity\n",
    "\n",
    "# 0. Load pieman_segments\n",
    "pieman_segments = pd.read_csv(\"pieman_segments.csv\")\n",
    "\n",
    "# 1. Load pretrained Word2Vec model\n",
    "model = gensim_load(\"glove-wiki-gigaword-300\")  # 300d\n",
    "\n",
    "# 2. Define prototype words for each emotion\n",
    "emotion_words = {\n",
    "    \"happiness\": [\"happy\", \"joy\", \"delighted\", \"pleased\", \"content\", \"excited\"],\n",
    "    \"sadness\": [\"sad\", \"unhappy\", \"miserable\", \"depressed\", \"gloomy\", \"tearful\"],\n",
    "    \"anger\": [\"angry\", \"mad\", \"furious\", \"irritated\", \"annoyed\", \"enraged\"],\n",
    "    \"fear\": [\"afraid\", \"scared\", \"fearful\", \"terrified\", \"nervous\", \"anxious\"],\n",
    "    \"surprise\": [\"surprised\", \"shocked\", \"astonished\", \"amazed\", \"startled\", \"stunned\"],\n",
    "    \"disgust\": [\"disgusted\", \"repulsed\", \"gross\", \"nauseated\", \"revolted\", \"sickened\"]\n",
    "}\n",
    "\n",
    "# 3. Compute prototype vectors\n",
    "emotion_prototypes = {}\n",
    "for emo, words in emotion_words.items():\n",
    "    vecs = [model[w] for w in words if w in model]\n",
    "    if vecs:\n",
    "        emotion_prototypes[emo] = np.mean(vecs, axis=0)\n",
    "    else:\n",
    "        raise ValueError(f\"No valid words found in model for emotion: {emo}\")\n",
    "\n",
    "# 4. Process your TR data\n",
    "tmp = pieman_segments.copy()\n",
    "tmp[\"word_raw\"] = tmp[\"word_raw\"].astype(str).str.lower()\n",
    "tmp = tmp[tmp[\"word_raw\"].notna() & tmp[\"word_raw\"].str.len().gt(0)]\n",
    "\n",
    "words_by_tr = tmp.groupby(\"TR\", as_index=True)[\"word_raw\"].apply(list).sort_index()\n",
    "\n",
    "# 5. Get average vector per TR\n",
    "def get_avg_vector(tokens):\n",
    "    vecs = [model[w] for w in tokens if w in model]\n",
    "    return np.mean(vecs, axis=0) if vecs else np.zeros(model.vector_size)\n",
    "\n",
    "tr_embeddings = words_by_tr.apply(get_avg_vector)\n",
    "tr_embed_df = pd.DataFrame(tr_embeddings.tolist(), index=tr_embeddings.index)\n",
    "tr_embed_df = tr_embed_df.reset_index().rename(columns={i: f\"dim_{i}\" for i in range(model.vector_size)})\n",
    "\n",
    "# 6. Compute cosine similarities with each emotion prototype\n",
    "def cosine_sim(v1, v2):\n",
    "    return cosine_similarity(v1.reshape(1, -1), v2.reshape(1, -1))[0][0]\n",
    "\n",
    "for emo, proto_vec in emotion_prototypes.items():\n",
    "    tr_embed_df[emo] = tr_embed_df[[f\"dim_{i}\" for i in range(model.vector_size)]].apply(\n",
    "        lambda row: cosine_sim(row.to_numpy(), proto_vec), axis=1\n",
    "    )\n",
    "\n",
    "# 7. Rolling 2-TR trailing mean\n",
    "all_tr = pd.DataFrame({\"TR\": np.arange(pieman_segments[\"TR\"].min(), pieman_segments[\"TR\"].max() + 1)})\n",
    "tr_scores = all_tr.merge(tr_embed_df[[\"TR\"] + list(emotion_prototypes.keys())], on=\"TR\", how=\"left\").fillna(0.0)"
   ]
  },
  {
   "cell_type": "code",
   "execution_count": null,
   "id": "9f8c4dc7-1b46-4dd7-9252-a8b009749278",
   "metadata": {},
   "outputs": [],
   "source": [
    "# Grab TR by TR for \"happiness_w2\", \"sadness_w2\", \"anger_w2\", \"fear_w2\", \"surprise_w2\", \"disgust\" in TR_scores \n",
    "# Also make any rows without a TR (e.g. if we go from 16 to 18 in the TR column) exist and grabbing the previous rows scores for the 6 emo variables\n",
    "# Train HMM for 2, 3, 4, 5, 6, 7, 8, 9, 10 states (based on the 6 emo variables) and compute log likelihood for each number of states\n",
    "# Save TR by state csv for best fitting model (BIC)"
   ]
  },
  {
   "cell_type": "code",
   "execution_count": null,
   "id": "d72c65d4-c1e0-48d9-a3e4-7830f59219e4",
   "metadata": {},
   "outputs": [],
   "source": []
  }
 ],
 "metadata": {
  "kernelspec": {
   "display_name": "Python 3 (ipykernel)",
   "language": "python",
   "name": "python3"
  },
  "language_info": {
   "codemirror_mode": {
    "name": "ipython",
    "version": 3
   },
   "file_extension": ".py",
   "mimetype": "text/x-python",
   "name": "python",
   "nbconvert_exporter": "python",
   "pygments_lexer": "ipython3",
   "version": "3.11.11"
  }
 },
 "nbformat": 4,
 "nbformat_minor": 5
}
