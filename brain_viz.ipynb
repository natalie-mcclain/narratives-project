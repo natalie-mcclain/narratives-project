{
 "cells": [
  {
   "cell_type": "code",
   "execution_count": 1,
   "id": "e6bcaa42-c185-4417-96a2-fe6629fa3424",
   "metadata": {},
   "outputs": [],
   "source": [
    "import nibabel as nib\n",
    "import numpy as np\n",
    "import pandas as pd\n",
    "import os\n",
    "import matplotlib.pyplot as plt\n",
    "from nilearn import plotting\n",
    "from PIL import Image\n",
    "import math\n",
    "\n",
    "# Create output folder if it doesn't exist\n",
    "output_dir = 'state_maps'\n",
    "os.makedirs(output_dir, exist_ok=True)"
   ]
  },
  {
   "cell_type": "code",
   "execution_count": 2,
   "id": "a1c4454a-9995-47b9-af6c-b5f3f4bede34",
   "metadata": {},
   "outputs": [],
   "source": [
    "state_vectors = pd.read_csv(\"state-activation-profiles/mean_activations_k14.csv\")\n",
    "\n",
    "network_names = [col.replace('_mean_activation', '') for col in state_vectors.columns if '_mean_activation' in col]\n",
    "\n",
    "# Select only columns ending with '_mean_activation'\n",
    "activation_cols = [col for col in state_vectors.columns if col.endswith('_mean_activation')]\n",
    "\n",
    "# Extract each row as a list of activations and store in state_vector_list\n",
    "state_vector_list = state_vectors[activation_cols].values.tolist()"
   ]
  },
  {
   "cell_type": "code",
   "execution_count": 3,
   "id": "0d9d94bd-2cfb-42ae-b5ae-7b51c05cd55e",
   "metadata": {},
   "outputs": [],
   "source": [
    "# Load network masks for each of the 14 Shirer component networks\n",
    "network_masks = [nib.load(f'shirer-masks/network-{name}_space-MNI152NLin2009cAsym_res-02_thresh-01_mask.nii').get_fdata() for name in network_names]\n",
    "    \n",
    "state_map_list = []\n",
    "for i in range(14):\n",
    "    # Compute state map\n",
    "    state_map = sum(w * m for w, m in zip(state_vector_list[i], network_masks))\n",
    "    state_map_list.append(state_map)\n",
    "\n",
    "for i in range(14):\n",
    "    # Save to NIfTI\n",
    "    nifti_img = nib.Nifti1Image(state_map_list[i], \n",
    "                                affine=nib.load(f'shirer-masks/network-{network_names[0]}_space-MNI152NLin2009cAsym_res-02_thresh-01_mask.nii').affine) # arbitrarily use one of the networks for info\n",
    "    nib.save(nifti_img, f'state_maps/state_{i+1}.nii.gz')"
   ]
  },
  {
   "cell_type": "code",
   "execution_count": 4,
   "id": "0ca5950a-e477-4d3a-9758-761ec1c7e2fe",
   "metadata": {},
   "outputs": [],
   "source": [
    "n_states = 14\n",
    "state_map_dir = \"state_maps\"\n",
    "output_dir = \"state_views\"\n",
    "os.makedirs(output_dir, exist_ok=True)\n",
    "\n",
    "for i in range(n_states):\n",
    "    state_path = os.path.join(state_map_dir, f\"state_{i+1}.nii.gz\")\n",
    "    output_path = os.path.join(output_dir, f\"state_{i+1}_views.png\")\n",
    "    \n",
    "    plotting.plot_stat_map(\n",
    "        state_path,\n",
    "        display_mode='ortho',  # sagittal, coronal, axial\n",
    "        cut_coords=(0, 0, 0),  # or use 'auto'\n",
    "        title=f\"State {i+1}\",\n",
    "        output_file=output_path,\n",
    "        colorbar=True,\n",
    "        vmin=-3,\n",
    "        vmax=3,\n",
    "        threshold=0.5\n",
    "    )"
   ]
  },
  {
   "cell_type": "code",
   "execution_count": 6,
   "id": "929902f9-5a53-40dd-8b55-cfd9a5adae03",
   "metadata": {},
   "outputs": [
    {
     "name": "stdout",
     "output_type": "stream",
     "text": [
      "Saved summary to: state_views/state_maps_summary.png\n"
     ]
    }
   ],
   "source": [
    "# Where the per-state images are saved\n",
    "input_dir = \"state_views\"\n",
    "output_path = \"state_views/state_maps_summary.png\"\n",
    "\n",
    "# Load all 14 images\n",
    "images = [Image.open(os.path.join(input_dir, f\"state_{i+1}_views.png\")) for i in range(14)]\n",
    "\n",
    "# Image dimensions (assumes all are same size)\n",
    "img_width, img_height = images[0].size\n",
    "\n",
    "# Grid layout\n",
    "n_cols = 4\n",
    "n_rows = math.ceil(len(images) / n_cols)\n",
    "\n",
    "# Create blank canvas\n",
    "summary_image = Image.new('RGB', (img_width * n_cols, img_height * n_rows), color=(255, 255, 255))\n",
    "\n",
    "# Paste each image at the correct (x, y) position\n",
    "for idx, img in enumerate(images):\n",
    "    row = idx // n_cols\n",
    "    col = idx % n_cols\n",
    "    x = col * img_width\n",
    "    y = row * img_height\n",
    "    summary_image.paste(img, (x, y))\n",
    "\n",
    "# Save the final image\n",
    "summary_image.save(output_path)\n",
    "print(f\"Saved summary to: {output_path}\")"
   ]
  },
  {
   "cell_type": "code",
   "execution_count": null,
   "id": "0878fff1-7bb3-46d3-84a0-fb110d9bbe3a",
   "metadata": {},
   "outputs": [],
   "source": []
  }
 ],
 "metadata": {
  "kernelspec": {
   "display_name": "Python 3 (ipykernel)",
   "language": "python",
   "name": "python3"
  },
  "language_info": {
   "codemirror_mode": {
    "name": "ipython",
    "version": 3
   },
   "file_extension": ".py",
   "mimetype": "text/x-python",
   "name": "python",
   "nbconvert_exporter": "python",
   "pygments_lexer": "ipython3",
   "version": "3.11.11"
  }
 },
 "nbformat": 4,
 "nbformat_minor": 5
}
