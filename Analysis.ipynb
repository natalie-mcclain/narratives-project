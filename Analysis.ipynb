{
 "cells": [
  {
   "cell_type": "code",
   "execution_count": 3,
   "id": "bb5927b3-365a-411b-8cc2-98f8b843b907",
   "metadata": {},
   "outputs": [],
   "source": [
    "import pandas as pd\n",
    "\n",
    "# Load HMM results\n",
    "\n",
    "# Load pieman_segments\n",
    "pieman_segments = pd.read_csv(\"pieman_segments.csv\")\n",
    "\n",
    "# Take mode of LLM segmentation results\n",
    "segment_cols = [f\"segment_idx_{i}\" for i in range(6)]\n",
    "pieman_segments[\"mode_segment\"] = pieman_segments[segment_cols].apply(lambda row: row.mode().iloc[0], axis=1)\n",
    "\n",
    "# Make clean pieman_segments dataframe\n",
    "\n",
    "# We just want each TR and then demarcate with a 1 if we have switched\n",
    "\n"
   ]
  },
  {
   "cell_type": "code",
   "execution_count": null,
   "id": "53801f08-8cb8-4af0-91f4-e9ec4d13ce43",
   "metadata": {},
   "outputs": [],
   "source": [
    "import numpy as np\n",
    "\n",
    "def get_event_boundaries(event_vector):\n",
    "    boundaries = np.zeros_like(event_vector)\n",
    "    boundaries[1:] = event_vector[1:] != event_vector[:-1]\n",
    "    return boundaries.astype(int)\n",
    "\n",
    "def get_state_transitions(state_vector):\n",
    "    transitions = np.zeros_like(state_vector)\n",
    "    transitions[1:] = state_vector[1:] != state_vector[:-1]\n",
    "    return transitions.astype(int)\n",
    "\n",
    "from scipy.signal import correlate\n",
    "\n",
    "def cross_correlation(a, b, max_lag=10):\n",
    "    assert len(a) == len(b)\n",
    "    a = a - np.mean(a)\n",
    "    b = b - np.mean(b)\n",
    "    corr = correlate(a, b, mode='full')\n",
    "    lags = np.arange(-len(a) + 1, len(a))\n",
    "    center = len(a) - 1\n",
    "    lag_range = range(center - max_lag, center + max_lag + 1)\n",
    "    return lags[lag_range], corr[lag_range]\n",
    "\n",
    "lags, corr_vals = cross_correlation(state_transitions, event_boundaries, max_lag=10)\n",
    "\n",
    "import matplotlib.pyplot as plt\n",
    "plt.plot(lags, corr_vals)\n",
    "plt.axvline(0, color='red', linestyle='--')\n",
    "plt.xlabel(\"Lag (TRs)\")\n",
    "plt.ylabel(\"Cross-correlation\")\n",
    "plt.title(\"State Transitions vs Event Boundaries\")\n",
    "plt.show()\n"
   ]
  }
 ],
 "metadata": {
  "kernelspec": {
   "display_name": "Python 3 (ipykernel)",
   "language": "python",
   "name": "python3"
  },
  "language_info": {
   "codemirror_mode": {
    "name": "ipython",
    "version": 3
   },
   "file_extension": ".py",
   "mimetype": "text/x-python",
   "name": "python",
   "nbconvert_exporter": "python",
   "pygments_lexer": "ipython3",
   "version": "3.11.11"
  }
 },
 "nbformat": 4,
 "nbformat_minor": 5
}
